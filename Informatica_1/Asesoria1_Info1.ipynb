{
  "nbformat": 4,
  "nbformat_minor": 0,
  "metadata": {
    "colab": {
      "provenance": [],
      "authorship_tag": "ABX9TyN9IYffgffiKcrAnD4XTy4j",
      "include_colab_link": true
    },
    "kernelspec": {
      "name": "python3",
      "display_name": "Python 3"
    },
    "language_info": {
      "name": "python"
    }
  },
  "cells": [
    {
      "cell_type": "markdown",
      "metadata": {
        "id": "view-in-github",
        "colab_type": "text"
      },
      "source": [
        "<a href=\"https://colab.research.google.com/github/AndresBanquezBio/Asesorias/blob/main/Asesoria1_Info1.ipynb\" target=\"_parent\"><img src=\"https://colab.research.google.com/assets/colab-badge.svg\" alt=\"Open In Colab\"/></a>"
      ]
    },
    {
      "cell_type": "markdown",
      "source": [
        "# **Primer asesoria para informática 1**\n",
        "Monitor: Andrés Banquez Cabarcas\\\n",
        "Estudiante de 10mo nivel de bioingeniería."
      ],
      "metadata": {
        "id": "JP4HcZrY06BZ"
      }
    },
    {
      "cell_type": "markdown",
      "source": [
        "##**¿Qué veremos hoy?**\n",
        "\n",
        "\n",
        "1.   Un pequeño repaso por los temas vistos en clase.\n",
        "2.   Un ejercicio corto que tenga similitud con lo que se resolverá en el taller.\n",
        "\n"
      ],
      "metadata": {
        "id": "S6tIM6JN0m0g"
      }
    },
    {
      "cell_type": "markdown",
      "source": [
        "## **Repaso**\n",
        "### Tipos de variables\n",
        "\n",
        "\n",
        "*   String: Cadenas de texto\n",
        "*   Int: Numeros enteros\n",
        "*   Float: Numeros decimales\n",
        "*   Booleano: Verdadero o falso"
      ],
      "metadata": {
        "id": "yVok33ks1S4H"
      }
    },
    {
      "cell_type": "code",
      "execution_count": 1,
      "metadata": {
        "colab": {
          "base_uri": "https://localhost:8080/"
        },
        "id": "VCCo8lt0zNrp",
        "outputId": "c66de177-3b8e-47b3-ac8d-b3e2758fbc3d"
      },
      "outputs": [
        {
          "output_type": "stream",
          "name": "stdout",
          "text": [
            "<class 'str'>\n",
            "<class 'int'>\n",
            "<class 'float'>\n",
            "<class 'bool'>\n"
          ]
        }
      ],
      "source": [
        "print(type(\"Hola\"))\n",
        "print(type(2))\n",
        "print(type(2.2))\n",
        "print(type(True))"
      ]
    },
    {
      "cell_type": "markdown",
      "source": [
        "### Condicionales"
      ],
      "metadata": {
        "id": "Yyt6vWmh3BPS"
      }
    },
    {
      "cell_type": "markdown",
      "source": [
        "Para el uso de condicionales tenemos al if (En español \"si\", pero no de afirmación), estos comprueban si un enunciado es verdadero o falso y ejecutan el código basado en ello."
      ],
      "metadata": {
        "id": "TzzEkzkH3TIu"
      }
    },
    {
      "cell_type": "code",
      "source": [
        "if True:\n",
        "  print(\"Siempre\")\n",
        "\n",
        "if False:\n",
        "  print(\"Nunca\")\n",
        "\n",
        "if 2 + 2 == 4:\n",
        "  print(\"4\")\n",
        "\n",
        "if 2 > 6:\n",
        "  print(\"Jamas\")\n",
        "\n",
        "if 5:\n",
        "  print(\"Si\")\n",
        "\n",
        "if '':\n",
        "  print(\"No\")"
      ],
      "metadata": {
        "colab": {
          "base_uri": "https://localhost:8080/"
        },
        "id": "vYKv9m-B2_Q-",
        "outputId": "17d7f410-a69f-44e6-b81e-65019eacd184"
      },
      "execution_count": 2,
      "outputs": [
        {
          "output_type": "stream",
          "name": "stdout",
          "text": [
            "Siempre\n",
            "4\n",
            "Si\n"
          ]
        }
      ]
    },
    {
      "cell_type": "markdown",
      "source": [
        "Todo numero diferente de 0 se considera un True, todo str (cadena de texto) diferente a unas comillas vacias tambien se considera un True.\n",
        "Ahora, ¿que tal si queremos implementar condicionales para intentar comprobar con que tipo de variable estamos trabajando?"
      ],
      "metadata": {
        "id": "3kcUoTx13urW"
      }
    },
    {
      "cell_type": "code",
      "source": [
        "string = \"Hola Mundo\"\n",
        "if type(string) == \"str\":\n",
        "  pass\n",
        "if type(string) == \"string\":\n",
        "  pass\n",
        "if type(string) == str:\n",
        "  pass"
      ],
      "metadata": {
        "id": "zDMV-gDP30d6"
      },
      "execution_count": 3,
      "outputs": []
    },
    {
      "cell_type": "markdown",
      "source": [
        "### Listas\n",
        "En python, las listas son objetos donde podemos almacenar diferentes tipos de datos, de diferentes valores, e incluso incluir listas dentro de listas.\\\n",
        "Estas se definen con los corchetes []"
      ],
      "metadata": {
        "id": "Rkgx_TEx5UET"
      }
    },
    {
      "cell_type": "code",
      "source": [
        "lista = [1, 2.56, [\"Hola Mundo\", \"Adios Mundo\"], \"Buen dia\"]"
      ],
      "metadata": {
        "id": "NNZaj-8G5fIV"
      },
      "execution_count": 4,
      "outputs": []
    },
    {
      "cell_type": "markdown",
      "source": [
        "Funciones importantes para las listas son:\n",
        "* list.append() - Añade un valor extra al final de la lista\n",
        "* list.sort() - Organiza la lista\n",
        "* list.pop() - Elimina un objeto de la lista en un index determinado\n",
        "* list.index() - Encuentra el index del objeto en la lista\n",
        "* len(list) - Entrega el numero de datos que hay en la lista"
      ],
      "metadata": {
        "id": "gFtv-6Qe7-sN"
      }
    },
    {
      "cell_type": "markdown",
      "source": [
        "Un dato interesante sobre las listas es que son concatenables, o sea, al igual que los strings se juntan con el signo de suma, las listas tambien son capaces de juntarse."
      ],
      "metadata": {
        "id": "2YMKyJOx8nju"
      }
    },
    {
      "cell_type": "code",
      "source": [
        "lista1 = [\"a\", \"b\", \"c\", \"d\"]\n",
        "lista2 = [1, 2, 3, 4]\n",
        "print(lista1)\n",
        "print(lista2)\n",
        "\n",
        "lista1 + lista2"
      ],
      "metadata": {
        "colab": {
          "base_uri": "https://localhost:8080/"
        },
        "id": "xi3jUY7l8eGm",
        "outputId": "b0a5d776-a7b9-4851-8470-4ee0b0b48b59"
      },
      "execution_count": 5,
      "outputs": [
        {
          "output_type": "stream",
          "name": "stdout",
          "text": [
            "['a', 'b', 'c', 'd']\n",
            "[1, 2, 3, 4]\n"
          ]
        },
        {
          "output_type": "execute_result",
          "data": {
            "text/plain": [
              "['a', 'b', 'c', 'd', 1, 2, 3, 4]"
            ]
          },
          "metadata": {},
          "execution_count": 5
        }
      ]
    },
    {
      "cell_type": "markdown",
      "source": [
        "### Ultima parte del repaso, ciclos\n",
        "Existen 2 tipos de ciclos, los ciclos for (para) y los ciclos while (mientras), el ciclo for recorre listas o arreglos, mientras que el ciclo while seguira el ciclo hasta que se deje de cumplir la condicion dada."
      ],
      "metadata": {
        "id": "1tTcpyqw88mO"
      }
    },
    {
      "cell_type": "code",
      "source": [
        "lista = [1, 3, 5.56, \"Hola gente\"]\n",
        "for i in lista:\n",
        "  print(i)\n",
        "\n",
        "print(\"_\"*50)\n",
        "print(\"\")\n",
        "\n",
        "i = 0\n",
        "while i<10:\n",
        "  print(i)\n",
        "  i+=2"
      ],
      "metadata": {
        "colab": {
          "base_uri": "https://localhost:8080/"
        },
        "id": "7EEgLMPU8-4e",
        "outputId": "8824e625-bbe9-4166-9a4b-f396d87787b3"
      },
      "execution_count": 13,
      "outputs": [
        {
          "output_type": "stream",
          "name": "stdout",
          "text": [
            "1\n",
            "3\n",
            "5.56\n",
            "Hola gente\n",
            "__________________________________________________\n",
            "\n",
            "0\n",
            "2\n",
            "4\n",
            "6\n",
            "8\n"
          ]
        }
      ]
    },
    {
      "cell_type": "markdown",
      "source": [
        "## **Reto/Ejercicio**\n",
        "Para todos los ejercicios utilice la siguiente lista:"
      ],
      "metadata": {
        "id": "02RJjZCA9rgU"
      }
    },
    {
      "cell_type": "code",
      "source": [
        "lista = [\"Carro\", 6, 4.5, \"Moto\", \"Agua\", True, False, \"Sol\", 10, 3.14, \"Luna\", 22, False, \"Bicicleta\", 7.9, \"Montaña\", True, 42, \"Mar\", 0.99]\n",
        "len(lista)"
      ],
      "metadata": {
        "colab": {
          "base_uri": "https://localhost:8080/"
        },
        "id": "lcna6FbV_ijD",
        "outputId": "2a092885-650e-4c8d-a390-fe9b338ec293"
      },
      "execution_count": 16,
      "outputs": [
        {
          "output_type": "execute_result",
          "data": {
            "text/plain": [
              "20"
            ]
          },
          "metadata": {},
          "execution_count": 16
        }
      ]
    },
    {
      "cell_type": "markdown",
      "source": [
        "1. Tome la lista entregada e imprima de ella unicamente los valores que son strings, el resto sumelos y luego imprima el resultado."
      ],
      "metadata": {
        "id": "zoynw8Jd_g1d"
      }
    },
    {
      "cell_type": "code",
      "source": [],
      "metadata": {
        "id": "ogLNwsig_BtH"
      },
      "execution_count": 15,
      "outputs": []
    },
    {
      "cell_type": "markdown",
      "source": [
        "2. De una lista A crear una lista B unicamente tomando los strings."
      ],
      "metadata": {
        "id": "kXZzeYaM_UN-"
      }
    },
    {
      "cell_type": "code",
      "source": [],
      "metadata": {
        "id": "fxl9sgWm_PdE"
      },
      "execution_count": null,
      "outputs": []
    },
    {
      "cell_type": "markdown",
      "source": [
        "3. ¿Es posible realizar la tarea anterior con una única linea de código? En caso de ser si la respuesta, haga el código, en caso de ser no ¿Por qué no?"
      ],
      "metadata": {
        "id": "pR7ICRFU_02d"
      }
    },
    {
      "cell_type": "code",
      "source": [],
      "metadata": {
        "id": "IBGwhzks_71Q"
      },
      "execution_count": 17,
      "outputs": []
    },
    {
      "cell_type": "markdown",
      "source": [
        "4. De la lista tomar los valores flotantes y enteros, sin crear otra lista se debe sacar el promedio de estos valores e imprimir el numero de enteros y de flotantes que habia."
      ],
      "metadata": {
        "id": "NBotIYlfAhbr"
      }
    },
    {
      "cell_type": "code",
      "source": [],
      "metadata": {
        "id": "Wd6NitO2AVtf"
      },
      "execution_count": null,
      "outputs": []
    }
  ]
}
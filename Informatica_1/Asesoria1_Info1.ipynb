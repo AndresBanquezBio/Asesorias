{
  "cells": [
    {
      "cell_type": "markdown",
      "metadata": {
        "colab_type": "text",
        "id": "view-in-github"
      },
      "source": [
        "<a href=\"https://colab.research.google.com/github/AndresBanquezBio/Asesorias/blob/main/Asesoria1_Info1.ipynb\" target=\"_parent\"><img src=\"https://colab.research.google.com/assets/colab-badge.svg\" alt=\"Open In Colab\"/></a>"
      ]
    },
    {
      "cell_type": "markdown",
      "metadata": {
        "id": "JP4HcZrY06BZ"
      },
      "source": [
        "# **Primer asesoria para informática 1**\n",
        "Monitor: Andrés Banquez Cabarcas\\\n",
        "Estudiante de 10mo nivel de bioingeniería."
      ]
    },
    {
      "cell_type": "markdown",
      "metadata": {
        "id": "S6tIM6JN0m0g"
      },
      "source": [
        "## **¿Qué veremos hoy?**\n",
        "\n",
        "\n",
        "1.   Un pequeño repaso por los temas vistos en clase.\n",
        "2.   Un ejercicio corto que tenga similitud con lo que se resolverá en el taller.\n",
        "\n"
      ]
    },
    {
      "cell_type": "markdown",
      "metadata": {
        "id": "yVok33ks1S4H"
      },
      "source": [
        "## **Repaso**\n",
        "### Tipos de variables básicas\n",
        "\n",
        "\n",
        "*   String: Cadenas de texto\n",
        "*   Int: Numeros enteros\n",
        "*   Float: Numeros decimales\n",
        "*   Booleano: Verdadero o falso"
      ]
    },
    {
      "cell_type": "code",
      "execution_count": 2,
      "metadata": {
        "colab": {
          "base_uri": "https://localhost:8080/"
        },
        "id": "VCCo8lt0zNrp",
        "outputId": "c66de177-3b8e-47b3-ac8d-b3e2758fbc3d"
      },
      "outputs": [
        {
          "name": "stdout",
          "output_type": "stream",
          "text": [
            "<class 'str'>\n",
            "<class 'int'>\n",
            "<class 'float'>\n",
            "<class 'bool'>\n"
          ]
        }
      ],
      "source": [
        "print(type(\"Hola\"))\n",
        "print(type(2))\n",
        "print(type(2.2))\n",
        "print(type(True))\n"
      ]
    },
    {
      "cell_type": "markdown",
      "metadata": {
        "id": "Yyt6vWmh3BPS"
      },
      "source": [
        "### Condicionales"
      ]
    },
    {
      "cell_type": "markdown",
      "metadata": {
        "id": "TzzEkzkH3TIu"
      },
      "source": [
        "Para el uso de condicionales tenemos al if (En español \"si\", pero no de afirmación), estos comprueban si un enunciado es verdadero o falso y ejecutan el código basado en ello."
      ]
    },
    {
      "cell_type": "code",
      "execution_count": 14,
      "metadata": {
        "colab": {
          "base_uri": "https://localhost:8080/"
        },
        "id": "vYKv9m-B2_Q-",
        "outputId": "17d7f410-a69f-44e6-b81e-65019eacd184"
      },
      "outputs": [
        {
          "name": "stdout",
          "output_type": "stream",
          "text": [
            "Siempre\n",
            "4\n",
            "Si\n"
          ]
        }
      ],
      "source": [
        "if True: # Si (es verdad) - Siempre se va a ejecutar\n",
        "  print(\"Siempre\") #Entonces \n",
        "\n",
        "if False: # Nunca se ejecutará\n",
        "  print(\"Nunca\")\n",
        "\n",
        "if 2 + 2 == 4: # Imprimirse 2+2 = 4\n",
        "  print(\"4\")\n",
        "\n",
        "if 2 > 6: # \n",
        "  print(\"Jamas\")\n",
        "\n",
        "if 5: # Cualquier numero que sea mayor a 0 es un True\n",
        "  print(\"Si\")\n",
        "\n",
        "if '': # Cualquier string diferente a unas comillas vacias es un True\n",
        "  print(\"No\")"
      ]
    },
    {
      "cell_type": "markdown",
      "metadata": {
        "id": "3kcUoTx13urW"
      },
      "source": [
        "Todo numero diferente de 0 se considera un True, todo str (cadena de texto) diferente a unas comillas vacias tambien se considera un True.\n",
        "Ahora, ¿que tal si queremos implementar condicionales para intentar comprobar con que tipo de variable estamos trabajando?"
      ]
    },
    {
      "cell_type": "code",
      "execution_count": 15,
      "metadata": {
        "id": "zDMV-gDP30d6"
      },
      "outputs": [
        {
          "name": "stdout",
          "output_type": "stream",
          "text": [
            "3\n"
          ]
        }
      ],
      "source": [
        "string = \"Hola Mundo\" # string\n",
        "\n",
        "if type(string) == \"str\":\n",
        "  print(\"1\")\n",
        "  \n",
        "if type(string) == \"string\":\n",
        "  print(\"2\")\n",
        "  \n",
        "if type(string) == str:\n",
        "  print(\"3\")"
      ]
    },
    {
      "cell_type": "markdown",
      "metadata": {
        "id": "Rkgx_TEx5UET"
      },
      "source": [
        "### Listas\n",
        "En python, las listas son objetos donde podemos almacenar diferentes tipos de datos, de diferentes valores, e incluso incluir listas dentro de listas.\\\n",
        "Estas se definen con los corchetes []"
      ]
    },
    {
      "cell_type": "markdown",
      "metadata": {},
      "source": [
        "Las listas son ordenadas. Son mutables."
      ]
    },
    {
      "cell_type": "code",
      "execution_count": 17,
      "metadata": {
        "id": "NNZaj-8G5fIV"
      },
      "outputs": [
        {
          "data": {
            "text/plain": [
              "[1, 2.56, ['Hola Mundo', 'Adios Mundo'], 'Buen dia', True, False]"
            ]
          },
          "execution_count": 17,
          "metadata": {},
          "output_type": "execute_result"
        }
      ],
      "source": [
        "lista = [1, 2.56, [\"Hola Mundo\", \"Adios Mundo\"], \"Buen dia\", True, 2+4 == 66]\n",
        "lista"
      ]
    },
    {
      "cell_type": "code",
      "execution_count": 28,
      "metadata": {},
      "outputs": [
        {
          "name": "stdout",
          "output_type": "stream",
          "text": [
            "4\n"
          ]
        }
      ],
      "source": [
        "lista = [5 ,9,4,3,1,6,498,46,1,6854,98,41,651,635,46,8749,8548]\n",
        "val = input(\"\")\n",
        "val = int(val)\n",
        "print(lista.index(val))"
      ]
    },
    {
      "cell_type": "markdown",
      "metadata": {
        "id": "gFtv-6Qe7-sN"
      },
      "source": [
        "Funciones importantes para las listas son:\n",
        "* list.append() - Añade un valor extra al final de la lista\n",
        "* list.sort() - Organiza la lista\n",
        "* list.pop() - Elimina un objeto de la lista en un index determinado\n",
        "* list.index() - Encuentra el index del objeto en la lista\n",
        "* len(list) - Entrega el numero de datos que hay en la lista"
      ]
    },
    {
      "cell_type": "markdown",
      "metadata": {
        "id": "2YMKyJOx8nju"
      },
      "source": [
        "Un dato interesante sobre las listas es que son concatenables, o sea, al igual que los strings se juntan con el signo de suma, las listas tambien son capaces de juntarse."
      ]
    },
    {
      "cell_type": "code",
      "execution_count": 5,
      "metadata": {
        "colab": {
          "base_uri": "https://localhost:8080/"
        },
        "id": "xi3jUY7l8eGm",
        "outputId": "b0a5d776-a7b9-4851-8470-4ee0b0b48b59"
      },
      "outputs": [
        {
          "name": "stdout",
          "output_type": "stream",
          "text": [
            "['a', 'b', 'c', 'd']\n",
            "[1, 2, 3, 4]\n"
          ]
        },
        {
          "data": {
            "text/plain": [
              "['a', 'b', 'c', 'd', 1, 2, 3, 4]"
            ]
          },
          "execution_count": 5,
          "metadata": {},
          "output_type": "execute_result"
        }
      ],
      "source": [
        "lista1 = [\"a\", \"b\", \"c\", \"d\"]\n",
        "lista2 = [1, 2, 3, 4]\n",
        "print(lista1)\n",
        "print(lista2)\n",
        "\n",
        "lista1 + lista2"
      ]
    },
    {
      "cell_type": "markdown",
      "metadata": {
        "id": "1tTcpyqw88mO"
      },
      "source": [
        "### Ultima parte del repaso, ciclos\n",
        "Existen 2 tipos de ciclos, los ciclos for (para) y los ciclos while (mientras), el ciclo for recorre listas o arreglos, mientras que el ciclo while seguira el ciclo hasta que se deje de cumplir la condicion dada."
      ]
    },
    {
      "cell_type": "code",
      "execution_count": 30,
      "metadata": {
        "colab": {
          "base_uri": "https://localhost:8080/"
        },
        "id": "7EEgLMPU8-4e",
        "outputId": "8824e625-bbe9-4166-9a4b-f396d87787b3"
      },
      "outputs": [
        {
          "name": "stdout",
          "output_type": "stream",
          "text": [
            "1\n",
            "3\n",
            "5.56\n",
            "Hola gente\n",
            "__________________________________________________\n",
            "\n",
            "0\n",
            "2\n",
            "4\n",
            "6\n",
            "8\n"
          ]
        }
      ],
      "source": [
        "lista = [1, 3, 5.56, \"Hola gente\"]\n",
        "for i in lista:\n",
        "  print(i)\n",
        "\n",
        "print(\"_\"*50)\n",
        "print(\"\")\n",
        "\n",
        "i = 0\n",
        "while i<10:\n",
        "  print(i)\n",
        "  i+=2"
      ]
    },
    {
      "cell_type": "code",
      "execution_count": 31,
      "metadata": {},
      "outputs": [
        {
          "name": "stdout",
          "output_type": "stream",
          "text": [
            "0\n",
            "1\n",
            "2\n",
            "Hola gente\n"
          ]
        }
      ],
      "source": [
        "lista = [1, 3, 5.56, \"Hola gente\"]\n",
        "for i,j in enumerate(lista):\n",
        "  if type(j) == str:\n",
        "    print(j)\n",
        "  else:\n",
        "    print(i)"
      ]
    },
    {
      "cell_type": "markdown",
      "metadata": {
        "id": "02RJjZCA9rgU"
      },
      "source": [
        "## **Reto/Ejercicio**\n",
        "Para todos los ejercicios utilice la siguiente lista:"
      ]
    },
    {
      "cell_type": "code",
      "execution_count": 39,
      "metadata": {
        "colab": {
          "base_uri": "https://localhost:8080/"
        },
        "id": "lcna6FbV_ijD",
        "outputId": "2a092885-650e-4c8d-a390-fe9b338ec293"
      },
      "outputs": [
        {
          "data": {
            "text/plain": [
              "20"
            ]
          },
          "execution_count": 39,
          "metadata": {},
          "output_type": "execute_result"
        }
      ],
      "source": [
        "lista = [\"Carro\", 6, 4.5, \"Moto\", \"Agua\", True, False, \"Sol\", 10, 3.14, \"Luna\", 22, False, \"Bicicleta\", 7.9, \"Montaña\", True, 42, \"Mar\", 0.99]\n",
        "len(lista)"
      ]
    },
    {
      "cell_type": "markdown",
      "metadata": {
        "id": "zoynw8Jd_g1d"
      },
      "source": [
        "1. Tome la lista entregada e imprima de ella unicamente los valores que son strings, el resto sumelos y luego imprima el resultado."
      ]
    },
    {
      "cell_type": "code",
      "execution_count": 45,
      "metadata": {
        "id": "ogLNwsig_BtH"
      },
      "outputs": [
        {
          "name": "stdout",
          "output_type": "stream",
          "text": [
            "Carro\n",
            "Moto\n",
            "Agua\n",
            "Sol\n",
            "Luna\n",
            "Bicicleta\n",
            "Montaña\n",
            "Mar\n",
            "98.52999999999999\n"
          ]
        }
      ],
      "source": [
        "suma = 0\n",
        "for objeto in lista:\n",
        "    if type(objeto) == str :\n",
        "        print(objeto)\n",
        "    else:\n",
        "        suma += objeto\n",
        "print(suma)"
      ]
    },
    {
      "cell_type": "markdown",
      "metadata": {
        "id": "kXZzeYaM_UN-"
      },
      "source": [
        "2. De una lista A crear una lista B unicamente tomando los strings."
      ]
    },
    {
      "cell_type": "code",
      "execution_count": 46,
      "metadata": {
        "id": "fxl9sgWm_PdE"
      },
      "outputs": [
        {
          "data": {
            "text/plain": [
              "['Carro', 'Moto', 'Agua', 'Sol', 'Luna', 'Bicicleta', 'Montaña', 'Mar']"
            ]
          },
          "execution_count": 46,
          "metadata": {},
          "output_type": "execute_result"
        }
      ],
      "source": [
        "lista2 = [] \n",
        "for objeto in lista:\n",
        "    if type(objeto) == str :\n",
        "        lista2.append(objeto)\n",
        "        \n",
        "lista2"
      ]
    },
    {
      "cell_type": "markdown",
      "metadata": {
        "id": "pR7ICRFU_02d"
      },
      "source": [
        "3. ¿Es posible realizar la tarea anterior con una única linea de código? En caso de ser si la respuesta, haga el código, en caso de ser no ¿Por qué no? **SI ES POSIBLE**"
      ]
    },
    {
      "cell_type": "code",
      "execution_count": 47,
      "metadata": {
        "id": "IBGwhzks_71Q"
      },
      "outputs": [
        {
          "data": {
            "text/plain": [
              "['Carro', 'Moto', 'Agua', 'Sol', 'Luna', 'Bicicleta', 'Montaña', 'Mar']"
            ]
          },
          "execution_count": 47,
          "metadata": {},
          "output_type": "execute_result"
        }
      ],
      "source": [
        "lista2 = [i for i in lista if type(i) == str] # RECOMENDADO\n",
        "lista2"
      ]
    },
    {
      "cell_type": "markdown",
      "metadata": {
        "id": "NBotIYlfAhbr"
      },
      "source": [
        "4. De la lista tomar los valores flotantes y enteros, sin crear otra lista se debe sacar el promedio de estos valores e imprimir el numero de enteros y de flotantes que habia."
      ]
    },
    {
      "cell_type": "code",
      "execution_count": 50,
      "metadata": {
        "id": "Wd6NitO2AVtf"
      },
      "outputs": [
        {
          "name": "stdout",
          "output_type": "stream",
          "text": [
            "4\n",
            "4\n",
            "12.066249999999998\n"
          ]
        }
      ],
      "source": [
        "suma = 0\n",
        "nF = 0\n",
        "nI = 0\n",
        "\n",
        "for objeto in lista:\n",
        "    if (type(objeto) == str or type(objeto) == bool):\n",
        "        continue # Continue rompe la ejecución del ciclo y me devuelve al principio de la siguiente iteración\n",
        "    if type(objeto) == float :\n",
        "        nF += 1\n",
        "        suma += objeto\n",
        "    if type(objeto) == int :\n",
        "        nI += 1\n",
        "        suma += objeto\n",
        "        \n",
        "print(nF)\n",
        "print(nI)\n",
        "print(suma/(nF+nI))"
      ]
    },
    {
      "cell_type": "markdown",
      "metadata": {},
      "source": [
        "Ejercicio D"
      ]
    },
    {
      "cell_type": "code",
      "execution_count": 35,
      "metadata": {},
      "outputs": [],
      "source": [
        "Rechazo = True\n",
        "contador = 0\n",
        "if Rechazo:\n",
        "    while True:\n",
        "        confirmacion = input(\"seguro? - 1 = si - 2 = no\")\n",
        "        if confirmacion == \"1\" or confirmacion == \"2\":\n",
        "            salir = True\n",
        "            break\n",
        "        else:\n",
        "            contador += 1\n",
        "        if contador == 3:\n",
        "            break"
      ]
    },
    {
      "cell_type": "code",
      "execution_count": 37,
      "metadata": {},
      "outputs": [
        {
          "data": {
            "text/plain": [
              "[['Nombre', 'apellido', 'edad'], ['Nombre', 'apellido', 'edad']]"
            ]
          },
          "execution_count": 37,
          "metadata": {},
          "output_type": "execute_result"
        }
      ],
      "source": [
        "pacientes = [] # Se llenará con varias listas paciente\n",
        "paciente = []\n",
        "paciente.append(\"Nombre\")\n",
        "paciente.append(\"apellido\")\n",
        "paciente.append(\"edad\")\n",
        "pacientes.append(paciente)\n",
        "paciente = []\n",
        "paciente.append(\"Nombre\")\n",
        "paciente.append(\"apellido\")\n",
        "paciente.append(\"edad\")\n",
        "pacientes.append(paciente)\n",
        "pacientes"
      ]
    },
    {
      "cell_type": "code",
      "execution_count": 38,
      "metadata": {},
      "outputs": [
        {
          "name": "stdout",
          "output_type": "stream",
          "text": [
            "['Nombre', 'apellido', 'edad']\n",
            "['Nombre', 'apellido', 'edad']\n"
          ]
        }
      ],
      "source": [
        "for i in pacientes:\n",
        "    print(i)"
      ]
    }
  ],
  "metadata": {
    "colab": {
      "authorship_tag": "ABX9TyN9IYffgffiKcrAnD4XTy4j",
      "include_colab_link": true,
      "provenance": []
    },
    "kernelspec": {
      "display_name": "Python 3",
      "name": "python3"
    },
    "language_info": {
      "codemirror_mode": {
        "name": "ipython",
        "version": 3
      },
      "file_extension": ".py",
      "mimetype": "text/x-python",
      "name": "python",
      "nbconvert_exporter": "python",
      "pygments_lexer": "ipython3",
      "version": "3.12.1"
    }
  },
  "nbformat": 4,
  "nbformat_minor": 0
}

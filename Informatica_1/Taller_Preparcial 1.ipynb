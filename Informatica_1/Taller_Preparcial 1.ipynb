{
  "cells": [
    {
      "cell_type": "markdown",
      "metadata": {
        "id": "J8DkeoeU3BBm"
      },
      "source": [
        "# **Taller preparcial informática 1**\n",
        "## **Conceptos que se utilizarán:**\n",
        "*   Listas\n",
        "*   Ciclos\n",
        "*   Condicionales\n",
        "\n"
      ]
    },
    {
      "cell_type": "markdown",
      "metadata": {
        "id": "8tH4ytsX32AW"
      },
      "source": [
        "# **Taller**\n",
        "\n",
        "En la unidad de nefrología de un hospital se requiere hacer una clasificación inicial de pacientes que padecen ERC (enfermedad renal crónica) para determinar si requieren o no diálisis. El sistema debe gestionar información de pacientes y sus respectivos exámenes, y a partir de dicha información realizar la clasificación.\n",
        "\n",
        "Cada paciente en el sistema tiene información de  nombre, edad, peso, estatura, género, presión arterial y el resultado del exámen de sangre.\n",
        "El examen de sangre tiene información de:\n",
        "\n",
        "* Tasa de filtración glomerular\n",
        "* Cociente albúmina/creatinina\n",
        "* Creatinina en suero\n",
        "* Nitrógeno ureico en sangre.\n",
        "\n",
        "Para realizar la clasificación se debe tener en cuenta los siguientes aspectos del examen de sangre y de la presión.\n",
        "\n",
        "* Tasa de filtración glomerular (TFG- ml/min): nivel entre 120 y 130 ml/min = normal. Menor a  120 ml/min etapa inicial de ERC\n",
        "* Cociente albúmina/creatinina (CAC): 30 mg/g o menos = normal. Más de 30 mg/g = posible signo de enfermedad renal\n",
        "* Presión arterial: mayor 130 = hipertensión\n",
        "* Creatinina en suero: Resultados de creatinina en suero mayores a 1.2 en las mujeres o mayores a 1.4 en los hombres = signo temprano de que los riñones no están funcionando bien\n",
        "* Nitrógeno ureico en sangre (NUS): Niveles de NUS entre 7 y 19 = normal. Los niveles de NUS de 20 o más pueden ser indicación de disminución de la función renal (o de deshidratación)\n",
        "\n",
        "El sistema solicitado debe permitir:\n",
        "* Ingresar un paciente con la información validada\n",
        "* Ver la clasificación de un paciente ingresado\n",
        "* Editar la información de un paciente"
      ]
    },
    {
      "cell_type": "markdown",
      "metadata": {
        "id": "2GCGSUE94qSe"
      },
      "source": [
        "## Recomendaciones\n",
        "* Primero: Planear el flujo de trabajo, no comenzar a programar sin saber que se hará (Esto incluye leer todo el parcial)\n",
        "* Segundo: Plantear la estructura de almacenamiento de datos.\n",
        "* Tercero: Programar."
      ]
    },
    {
      "cell_type": "code",
      "execution_count": 2,
      "metadata": {
        "id": "eJSNidv-3Cy2"
      },
      "outputs": [],
      "source": [
        "pacientes = [] # Lista 0\n",
        "# paciente tendrá todos los datos de un paciente:\n",
        "# paciente = [id, nombre, edad, peso, estatura, genero, presionArterial, resultadoExamen] resultadoExamen será una lista\n",
        "# paciente.append(resultadoExamen)\n",
        "# pacientes.append(paciente)"
      ]
    },
    {
      "cell_type": "markdown",
      "metadata": {
        "id": "m3ZEfZA_aJd9"
      },
      "source": [
        "* Tasa de filtración glomerular (TFG- ml/min): nivel entre 120 y 130 ml/min = normal. Menor a  120 ml/min etapa inicial de ERC\n",
        "* Cociente albúmina/creatinina (CAC): 30 mg/g o menos = normal. Más de 30 mg/g = posible signo de enfermedad renal\n",
        "* Presión arterial: mayor 130 = hipertensión\n",
        "* Creatinina en suero: Resultados de creatinina en suero mayores a 1.2 en las mujeres o mayores a 1.4 en los hombres = signo temprano de que los riñones no están funcionando bien\n",
        "* Nitrógeno ureico en sangre (NUS): Niveles de NUS entre 7 y 19 = normal. Los niveles de NUS de 20 o más pueden ser indicación de disminución de la función renal (o de deshidratación)"
      ]
    },
    {
      "cell_type": "code",
      "execution_count": 22,
      "metadata": {
        "colab": {
          "base_uri": "https://localhost:8080/"
        },
        "id": "mQLf7QrPX3Tl",
        "outputId": "94b20db6-7357-4a85-d32a-275aeba45b50"
      },
      "outputs": [
        {
          "name": "stdout",
          "output_type": "stream",
          "text": [
            "Seleccione la opción: \n",
            "1. Ingresar Paciente\n",
            "2. Clasificar Paciente\n",
            "3. Editar Paciente\n",
            "4. Ver pacientes\n",
            "5. Salir\n",
            "4\n",
            "15 - Andres\n",
            "Edad: 22\n",
            "Peso: 70.0\n",
            "Estatura: 175.0\n",
            "Genero: H\n",
            "Presion arterial: 110\n",
            "Examen de sangre: [25.0, 25.0, 25.0, 25.0]\n",
            "Diagnostico: True\n",
            "1 - A\n",
            "Edad: 15\n",
            "Peso: 15.0\n",
            "Estatura: 15.0\n",
            "Genero: 1\n",
            "Presion arterial: 15\n",
            "Examen de sangre: [125.0, 25.0, 1.0, 19.0]\n",
            "Diagnostico: False\n",
            "Seleccione la opción: \n",
            "1. Ingresar Paciente\n",
            "2. Clasificar Paciente\n",
            "3. Editar Paciente\n",
            "4. Ver pacientes\n",
            "5. Salir\n",
            "5\n"
          ]
        }
      ],
      "source": [
        "while True: # Tenemos un programa que nos permite acceder a diferentes funciones del sistema\n",
        "  menu = int(input(\"Seleccione la opción: \\n1. Ingresar Paciente\\n2. Clasificar Paciente\\n3. Editar Paciente\\n4. Ver pacientes\\n5. Salir\\n\"))\n",
        "  if menu == 1:\n",
        "    id = input(\"Ingrese el ID de paciente: \")\n",
        "    nombre = input(\"Ingrese el nombre del paciente: \")\n",
        "    edad = int(input(\"Ingrese la edad del paciente: \"))\n",
        "    peso = float(input(\"Ingrese el peso del paciente: \"))\n",
        "    estatura = float(input(\"Ingrese la estatura del paciente: \"))\n",
        "    genero = int(input(\"Ingrese el género del paciente (1- Hombre, 2- Mujer): \")) # Ingresar un numero\n",
        "    presionArterial = int(input(\"Ingrese la presión arterial del paciente: \"))\n",
        "    paciente = [id, nombre, edad, peso, estatura, genero, presionArterial] # LISTA 1\n",
        "    print(\"*** AVISO *** \\n SE INGRESARÁN LOS DATOS DEL EXÁMEN DE SANGRE DEL PACIENTE\")\n",
        "    filtracion = float(input(\"Ingrese la Tasa de filtración glomerular del paciente: \"))\n",
        "    cac = float(input(\"Ingrese el Cociente albúmina/creatinina del paciente: \"))\n",
        "    creatinina = float(input(\"Ingrese la Creatinina en suero del paciente: \"))\n",
        "    nus = float(input(\"Ingrese el Nitrógeno ureico en sangre del paciente: \"))\n",
        "    examen = [filtracion, cac, creatinina, nus] # LISTA 2\n",
        "    paciente.append(examen) # Listas anidadas\n",
        "    pacientes.append(paciente)\n",
        "    print(\"Paciente ingresado con éxito\")\n",
        "    print(\"Paciente: \")\n",
        "    print(paciente)\n",
        "\n",
        "  elif menu == 2: # Clasificacion\n",
        "    print(\"Iniciando clasificación\")\n",
        "    for paciente in pacientes:\n",
        "      examen = paciente[7]\n",
        "      filtracion = examen[0]\n",
        "      cac = examen[1]\n",
        "      creatinina = examen[2]\n",
        "      nus = examen[3]\n",
        "      genero = paciente[5]\n",
        "      if len(paciente) == 9:\n",
        "        continue\n",
        "      if filtracion<120:\n",
        "        paciente.append(True)\n",
        "        continue\n",
        "      elif cac>30:\n",
        "        paciente.append(True)\n",
        "        continue\n",
        "      elif creatinina>1.2 and genero == 2: # 80\n",
        "        paciente.append(True)\n",
        "        continue\n",
        "      elif creatinina>1.4 and genero == 1: # 80\n",
        "        paciente.append(True)\n",
        "        continue\n",
        "      elif nus>=20:\n",
        "        paciente.append(True)\n",
        "        continue\n",
        "      else:\n",
        "        paciente.append(False) # Diagnostico es negativo con los datos ingresados\n",
        "        continue\n",
        "    print(\"Clasificación realizada con éxito\")\n",
        "    for paciente in pacientes:\n",
        "      print(paciente)\n",
        "  elif menu == 3:\n",
        "    idPaciente = input(\"Ingrese el ID del paciente a editar: \")\n",
        "    for paciente in pacientes:\n",
        "      # paciente = [id, nombre, edad, peso, estatura, genero, presionArterial] # LISTA 1\n",
        "      if paciente[0] == idPaciente:\n",
        "        print(\"Paciente encontrado\")\n",
        "        print(\"Ingrese los nuevos datos del paciente\")\n",
        "        nombre = input(\"Ingrese el nombre del paciente: \")\n",
        "        edad = int(input(\"Ingrese la edad del paciente: \"))\n",
        "        peso = float(input(\"Ingrese el peso del paciente: \"))\n",
        "        estatura = float(input(\"Ingrese la estatura del paciente: \"))\n",
        "        genero = int(input(\"Ingrese el género del paciente (1- Hombre, 2- Mujer): \")) # Ingresar un numero\n",
        "        presionArterial = int(input(\"Ingrese la presión arterial del paciente: \"))\n",
        "        paciente[1] = nombre\n",
        "        paciente[2] = edad\n",
        "        paciente[3] = peso\n",
        "        paciente[4] = estatura\n",
        "        paciente[5] = genero\n",
        "        paciente[6] = presionArterial\n",
        "        print(\"Paciente editado con éxito\")\n",
        "  elif menu == 4:\n",
        "    for paciente in pacientes:\n",
        "      print(f'{paciente[0]} - {paciente[1]}')\n",
        "      print(f'Edad: {paciente[2]}')\n",
        "      print(f'Peso: {paciente[3]}')\n",
        "      print(f'Estatura: {paciente[4]}')\n",
        "      print(f'Genero: {paciente[5]}')\n",
        "      print(f'Presion arterial: {paciente[6]}')\n",
        "      print(f'Examen de sangre: {paciente[7]}')\n",
        "      print(f'Diagnostico: {paciente[8]}')\n",
        "\n",
        "  elif menu == 5: # Salir\n",
        "    break # Rompe el ciclo y ya no vuelve a correr el programa\n",
        "  else:\n",
        "    print(\"Opción no válida\")"
      ]
    },
    {
      "cell_type": "code",
      "execution_count": 12,
      "metadata": {
        "colab": {
          "base_uri": "https://localhost:8080/"
        },
        "id": "P4rKVB3bb5_m",
        "outputId": "6f09cb62-7441-4878-8e01-6a3f6bf5cee2"
      },
      "outputs": [
        {
          "name": "stdout",
          "output_type": "stream",
          "text": [
            "15 - Andres\n",
            "El paciente tiene una posible clasificacion inicial de ERC\n",
            "1 - A\n",
            "El paciente no tiene una posible clasificacion inicial de ERC\n",
            "2 - B\n",
            "El paciente tiene una posible clasificacion inicial de ERC\n"
          ]
        }
      ],
      "source": [
        "for paciente in pacientes:\n",
        "  print(f'{paciente[0]} - {paciente[1]}')\n",
        "  if paciente[8]:\n",
        "    print(\"El paciente tiene una posible clasificacion inicial de ERC\")\n",
        "  else:\n",
        "    print(\"El paciente no tiene una posible clasificacion inicial de ERC\")"
      ]
    },
    {
      "cell_type": "code",
      "execution_count": 21,
      "metadata": {
        "colab": {
          "base_uri": "https://localhost:8080/"
        },
        "id": "f5a-uNs4fnch",
        "outputId": "350b2bdb-10e4-4567-c908-7380bda55470"
      },
      "outputs": [
        {
          "data": {
            "text/plain": [
              "[['15', 'Andres', 22, 70.0, 175.0, 'H', 110, [25.0, 25.0, 25.0, 25.0], True],\n",
              " ['1', 'A', 15, 15.0, 15.0, 1, 15, [125.0, 25.0, 1.0, 19.0], False]]"
            ]
          },
          "execution_count": 21,
          "metadata": {},
          "output_type": "execute_result"
        }
      ],
      "source": [
        "pacientes"
      ]
    }
  ],
  "metadata": {
    "colab": {
      "provenance": []
    },
    "kernelspec": {
      "display_name": "Python 3",
      "name": "python3"
    },
    "language_info": {
      "name": "python"
    }
  },
  "nbformat": 4,
  "nbformat_minor": 0
}

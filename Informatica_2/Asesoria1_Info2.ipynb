{
  "cells": [
    {
      "cell_type": "markdown",
      "metadata": {
        "colab_type": "text",
        "id": "view-in-github"
      },
      "source": [
        "<a href=\"https://colab.research.google.com/github/AndresBanquezBio/Asesorias/blob/main/Asesoria1_Info1.ipynb\" target=\"_parent\"><img src=\"https://colab.research.google.com/assets/colab-badge.svg\" alt=\"Open In Colab\"/></a>"
      ]
    },
    {
      "cell_type": "markdown",
      "metadata": {
        "id": "JP4HcZrY06BZ"
      },
      "source": [
        "# **Primer asesoria para informática 2**\n",
        "Monitor: Andrés Banquez Cabarcas\\\n",
        "Estudiante de 10mo nivel de bioingeniería."
      ]
    },
    {
      "cell_type": "markdown",
      "metadata": {
        "id": "S6tIM6JN0m0g"
      },
      "source": [
        "## **¿Qué veremos hoy?**\n",
        "\n",
        "\n",
        "1.   Un pequeño repaso por los temas vistos en clase.\n",
        "2.   Un ejercicio corto que tenga similitud con lo que se resolverá en el taller.\n",
        "\n"
      ]
    },
    {
      "cell_type": "markdown",
      "metadata": {
        "id": "yVok33ks1S4H"
      },
      "source": [
        "## **Repaso**\n",
        "### Clases\n",
        "#### Conceptos\n",
        "\n",
        "* Clase: Plantilla para crear objetos, define sus atributos y métodos.\n",
        "* Objeto: Una entidad individual creada a partir de una clase.\n",
        "* Herencia: Una forma en que se puede crear una clase a partir de otra, siendo que la subclase \"Hereda\" todos los atributos y métodos de la superclase.\n",
        "* Polimorfismo: Capacidad de que con el mismo método, dos clases que sean super y subclase respondan de manera distinta.\n",
        "* Encapsulamiento: Ocultar detalles de un objeto para unicamente exponer aquellos que se desean, es una forma de seguridad.\n",
        "* Método: \"Comportamiento\" de las clases.\n",
        "* Atributos: \"Descripciones\" de las clases."
      ]
    },
    {
      "cell_type": "markdown",
      "metadata": {
        "id": "Yyt6vWmh3BPS"
      },
      "source": [
        "#### Definiendo clases"
      ]
    },
    {
      "cell_type": "markdown",
      "metadata": {
        "id": "TzzEkzkH3TIu"
      },
      "source": [
        "Para definir una clase en python utilizamos la palabra reservada \"class\".\\\n",
        "El método __init__ es necesario para inicializar los objetos y sus atributos.\\\n",
        "Los atributos se definen inicialmente en el método init"
      ]
    },
    {
      "cell_type": "code",
      "execution_count": 2,
      "metadata": {
        "colab": {
          "base_uri": "https://localhost:8080/"
        },
        "id": "vYKv9m-B2_Q-",
        "outputId": "17d7f410-a69f-44e6-b81e-65019eacd184"
      },
      "outputs": [
        {
          "name": "stdout",
          "output_type": "stream",
          "text": [
            "<__main__.Clase object at 0x000001851BC7E4B0>\n"
          ]
        }
      ],
      "source": [
        "class Clase: # Una clase\n",
        "  def __init__(self, atributo1): # Métodos \n",
        "    self.atributo1 = atributo1 # Atributos\n",
        "    \n",
        "# Aqui creamos un objeto a partir de la clase \"Clase\"\n",
        "clase = Clase(\"Jose\") # Objeto\n",
        "print(clase)"
      ]
    },
    {
      "cell_type": "markdown",
      "metadata": {
        "id": "3kcUoTx13urW"
      },
      "source": [
        "Es posible cambiar los valores de los atributos de los objetos."
      ]
    },
    {
      "cell_type": "code",
      "execution_count": 3,
      "metadata": {
        "id": "zDMV-gDP30d6"
      },
      "outputs": [
        {
          "name": "stdout",
          "output_type": "stream",
          "text": [
            "Jose\n",
            "Alberto\n",
            "25\n"
          ]
        }
      ],
      "source": [
        "print(clase.atributo1)\n",
        "clase.atributo1 = \"Alberto\"\n",
        "print(clase.atributo1)\n",
        "clase.atributo1 = 25\n",
        "print(clase.atributo1)"
      ]
    },
    {
      "cell_type": "markdown",
      "metadata": {},
      "source": [
        "Pero cuando encapsulamos en \"privado\" no es posible hacer estos cambios."
      ]
    },
    {
      "cell_type": "code",
      "execution_count": 13,
      "metadata": {},
      "outputs": [
        {
          "name": "stdout",
          "output_type": "stream",
          "text": [
            "Jose\n",
            "El atributo no existe, por tanto esto se imprime.\n"
          ]
        }
      ],
      "source": [
        "class Clase:\n",
        "  def __init__(self, atributo1):\n",
        "    self._atributo1 = atributo1 # Protegido \n",
        "    \n",
        "clase = Clase(\"Jose\")\n",
        "\n",
        "print(clase._atributo1)\n",
        "\n",
        "class Clase:\n",
        "  def __init__(self, atributo1):\n",
        "    self.__atributo1 = atributo1 # Encapsulamiento privado\n",
        "    \n",
        "clase = Clase(\"Jose\")\n",
        "try:\n",
        "  print(clase._atributo1)\n",
        "except AttributeError:\n",
        "  print(\"El atributo no existe, por tanto esto se imprime.\")"
      ]
    },
    {
      "cell_type": "markdown",
      "metadata": {},
      "source": [
        "#### Metodos\n",
        "Pero con los métodos podemos modificar esto."
      ]
    },
    {
      "cell_type": "code",
      "execution_count": 14,
      "metadata": {},
      "outputs": [
        {
          "name": "stdout",
          "output_type": "stream",
          "text": [
            "Jose\n",
            "Alberto\n",
            "Nombre: Alberto\n"
          ]
        }
      ],
      "source": [
        "class Clase:\n",
        "  def __init__(self, atributo1):\n",
        "    self.__atributo1 = atributo1\n",
        "  \n",
        "  def changeAtributo1(self, atributo1): # Setter \n",
        "    self.__atributo1 = atributo1\n",
        "    \n",
        "  def seeAtributo1(self): # Getter \n",
        "    return self.__atributo1\n",
        "  \n",
        "  def __str__(self):\n",
        "    return f'Nombre: {self.__atributo1}'\n",
        "\n",
        "    \n",
        "clase = Clase(\"Jose\")\n",
        "\n",
        "print(clase.seeAtributo1())\n",
        "clase.changeAtributo1(\"Alberto\")\n",
        "print(clase.seeAtributo1())\n",
        "print(clase)"
      ]
    },
    {
      "cell_type": "code",
      "execution_count": 7,
      "metadata": {},
      "outputs": [],
      "source": [
        "class Clase:\n",
        "  def __init__(self, atributo1):\n",
        "    self.__atributo1 = atributo1\n",
        "  \n",
        "  def setatributo1(self, atributo1): # Setter \n",
        "    self.__atributo1 = atributo1\n",
        "    \n",
        "  @property\n",
        "  def atributo1(self): # Getter \n",
        "    return self.__atributo1\n",
        "  \n",
        "  def __str__(self):\n",
        "    return f'Nombre: {self.__atributo1}'"
      ]
    },
    {
      "cell_type": "code",
      "execution_count": 10,
      "metadata": {},
      "outputs": [
        {
          "data": {
            "text/plain": [
              "'Jose'"
            ]
          },
          "execution_count": 10,
          "metadata": {},
          "output_type": "execute_result"
        }
      ],
      "source": [
        "clase = Clase(\"Jose\")\n",
        "clase.atributo1\n"
      ]
    },
    {
      "cell_type": "markdown",
      "metadata": {},
      "source": [
        "#### Herencia\n",
        "Las subclases pueden heredar todos los atributos y métodos de las superclases"
      ]
    },
    {
      "cell_type": "code",
      "execution_count": 15,
      "metadata": {},
      "outputs": [
        {
          "name": "stdout",
          "output_type": "stream",
          "text": [
            "Alberto\n",
            "None\n",
            "54\n"
          ]
        }
      ],
      "source": [
        "class Clase2(Clase): # Clase2 tendrá todos los métodos y atributos de la clase Clase\n",
        "    def __init__(self, atributo1):\n",
        "        super().__init__(atributo1)\n",
        "        self.atributo2 = None\n",
        "        \n",
        "objeto2 = Clase2(\"Alberto\")\n",
        "print(objeto2.seeAtributo1())\n",
        "print(objeto2.atributo2)\n",
        "objeto2.atributo2 = 54\n",
        "print(objeto2.atributo2)"
      ]
    },
    {
      "cell_type": "markdown",
      "metadata": {},
      "source": [
        "#### Polimorfismo\n",
        "Podemos permitir entonces que los métodos definidos antes funcionen diferente para una subclase"
      ]
    },
    {
      "cell_type": "code",
      "execution_count": 19,
      "metadata": {},
      "outputs": [
        {
          "name": "stdout",
          "output_type": "stream",
          "text": [
            "Nombre: Juan Perez\n"
          ]
        }
      ],
      "source": [
        "# Clase, objeto, herencia, polimorfismo\n",
        "class Clase2(Clase): \n",
        "    def __init__(self, atributo1, atributo2):\n",
        "        super().__init__(atributo1)\n",
        "        self.atributo2 = atributo2\n",
        "        \n",
        "    def __str__(self):\n",
        "        return f'{super().__str__()} {self.atributo2}'\n",
        "    \n",
        "objeto2 = Clase2(\"Alberto\", \"Martinez\")\n",
        "objeto2.changeAtributo1(\"Juan\")\n",
        "objeto2.atributo2 = \"Perez\"\n",
        "print(objeto2)"
      ]
    },
    {
      "cell_type": "markdown",
      "metadata": {
        "id": "02RJjZCA9rgU"
      },
      "source": [
        "## **Reto/Ejercicio**"
      ]
    },
    {
      "cell_type": "markdown",
      "metadata": {
        "id": "zoynw8Jd_g1d"
      },
      "source": [
        "1. Abra el .json, observelo y cree una clase para poder ingresar el json como objetos de la clase."
      ]
    },
    {
      "cell_type": "code",
      "execution_count": 20,
      "metadata": {},
      "outputs": [],
      "source": [
        "import json # Libreria que utilizamos para manejar json - Para txt no hay que importar nada\n",
        "\n",
        "class Persona:\n",
        "    def __init__(self, nombre: str, edad: int, correo: str, hobbies: list):\n",
        "        self.nombre = nombre\n",
        "        self.edad = edad\n",
        "        self.correo = correo\n",
        "        self.hobbies = hobbies\n",
        "        \n",
        "    def __str__(self):\n",
        "        return f'nombre: {self.nombre}, edad: {self.edad}, hobbies: {', '.join(self.hobbies)}'"
      ]
    },
    {
      "cell_type": "code",
      "execution_count": 25,
      "metadata": {},
      "outputs": [],
      "source": [
        "import os # importando la libreria que nos permitira ver los archivos de la carpeta\n",
        "archivos = [i for i in os.listdir() if i.endswith(\".json\")] # Mirando que archivos hay y seleccionando los .json\n",
        "archivo = archivos[0]  # Escojo el de interes\n",
        "archivo = open(archivo, encoding= 'utf-8') # Lo abro como tipo file\n",
        "data = json.load(archivo) # Guardo la información que se encuentra en formato json en una variable\n",
        "archivo.close() # Cierro el objeto file"
      ]
    },
    {
      "cell_type": "code",
      "execution_count": 28,
      "metadata": {},
      "outputs": [],
      "source": [
        "lista = []\n",
        "for persona in data['personas']: # Persona es en cada iteracion un diccionario con los datos\n",
        "    lista.append(Persona(persona['nombre'], persona['edad'], persona['correo'], persona['hobbies']))"
      ]
    },
    {
      "cell_type": "code",
      "execution_count": 29,
      "metadata": {},
      "outputs": [
        {
          "name": "stdout",
          "output_type": "stream",
          "text": [
            "nombre: Juan Perez, edad: 30, hobbies: fútbol, lectura, viajar\n",
            "nombre: Ana Gómez, edad: 25, hobbies: pintura, música\n",
            "nombre: Carlos López, edad: 35, hobbies: ciclismo, ajedrez\n",
            "nombre: Marta Ruiz, edad: 28, hobbies: cocina, bailar, fotografía\n",
            "nombre: Luis Martínez, edad: 40, hobbies: golf, videojuegos\n",
            "nombre: Lucía Fernández, edad: 22, hobbies: yoga, escribir, viajar\n",
            "nombre: Pedro Sánchez, edad: 31, hobbies: natación, pesca\n",
            "nombre: Elena Castro, edad: 27, hobbies: correr, meditación, leer\n",
            "nombre: Diego Vargas, edad: 33, hobbies: fotografía, cine, viajar\n",
            "nombre: Sara Morales, edad: 29, hobbies: dibujo, jardinería, moda\n"
          ]
        }
      ],
      "source": [
        "for persona in lista:\n",
        "    print(persona)"
      ]
    },
    {
      "cell_type": "markdown",
      "metadata": {
        "id": "kXZzeYaM_UN-"
      },
      "source": [
        "2. Crear una clase hija de la clase anteriormente creada, esta vez no se recibirá correo sino que se creará apartir del nombre utilizando un método propio, además al imprimirse ahora tambien mostrará al final \"Clase hija\""
      ]
    },
    {
      "cell_type": "code",
      "execution_count": 46,
      "metadata": {},
      "outputs": [],
      "source": [
        "class Persona2(Persona): \n",
        "    def __init__(self, nombre: str, edad: int, hobbies: list, correo: str = \"\"):\n",
        "        super().__init__(nombre = nombre, edad= edad, correo=correo, hobbies=hobbies)\n",
        "        self.correo = self.crearCorreo()\n",
        "    \n",
        "    def crearCorreo(self): # Metodo de la clase hija\n",
        "        return f'{('.'.join(self.nombre.split(' '))).lower()}@example.co'\n",
        "    \n",
        "    def __str__(self): # Polimorfismo - Son el mismo metodo pero funcionan distinto\n",
        "        return f'{self.correo} - Clase hija'"
      ]
    },
    {
      "cell_type": "code",
      "execution_count": 47,
      "metadata": {},
      "outputs": [],
      "source": [
        "lista = []\n",
        "for persona in data['personas']: # Persona es en cada iteracion un diccionario con los datos\n",
        "    lista.append(Persona2(nombre = persona['nombre'], edad = persona['edad'], hobbies= persona['hobbies']))"
      ]
    },
    {
      "cell_type": "code",
      "execution_count": 48,
      "metadata": {},
      "outputs": [
        {
          "name": "stdout",
          "output_type": "stream",
          "text": [
            "juan.perez@example.co - Clase hija\n",
            "ana.gómez@example.co - Clase hija\n",
            "carlos.lópez@example.co - Clase hija\n",
            "marta.ruiz@example.co - Clase hija\n",
            "luis.martínez@example.co - Clase hija\n",
            "lucía.fernández@example.co - Clase hija\n",
            "pedro.sánchez@example.co - Clase hija\n",
            "elena.castro@example.co - Clase hija\n",
            "diego.vargas@example.co - Clase hija\n",
            "sara.morales@example.co - Clase hija\n"
          ]
        }
      ],
      "source": [
        "for persona in lista:\n",
        "    print(persona)"
      ]
    },
    {
      "cell_type": "markdown",
      "metadata": {},
      "source": [
        "3. Como ultimo ejercicio creará una clase que almacene 3 atributos distintos de manera privada, luego generará metodos para poder modificarlos y leerlos. Luego creará 3 objetos de la clase e imprimirá sus valores."
      ]
    },
    {
      "cell_type": "code",
      "execution_count": null,
      "metadata": {},
      "outputs": [],
      "source": []
    }
  ],
  "metadata": {
    "colab": {
      "authorship_tag": "ABX9TyN9IYffgffiKcrAnD4XTy4j",
      "include_colab_link": true,
      "provenance": []
    },
    "kernelspec": {
      "display_name": "Python 3",
      "name": "python3"
    },
    "language_info": {
      "codemirror_mode": {
        "name": "ipython",
        "version": 3
      },
      "file_extension": ".py",
      "mimetype": "text/x-python",
      "name": "python",
      "nbconvert_exporter": "python",
      "pygments_lexer": "ipython3",
      "version": "3.12.1"
    }
  },
  "nbformat": 4,
  "nbformat_minor": 0
}

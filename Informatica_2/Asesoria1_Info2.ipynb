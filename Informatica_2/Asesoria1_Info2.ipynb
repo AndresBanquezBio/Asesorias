{
  "cells": [
    {
      "cell_type": "markdown",
      "metadata": {
        "colab_type": "text",
        "id": "view-in-github"
      },
      "source": [
        "<a href=\"https://colab.research.google.com/github/AndresBanquezBio/Asesorias/blob/main/Asesoria1_Info1.ipynb\" target=\"_parent\"><img src=\"https://colab.research.google.com/assets/colab-badge.svg\" alt=\"Open In Colab\"/></a>"
      ]
    },
    {
      "cell_type": "markdown",
      "metadata": {
        "id": "JP4HcZrY06BZ"
      },
      "source": [
        "# **Primer asesoria para informática 2**\n",
        "Monitor: Andrés Banquez Cabarcas\\\n",
        "Estudiante de 10mo nivel de bioingeniería."
      ]
    },
    {
      "cell_type": "markdown",
      "metadata": {
        "id": "S6tIM6JN0m0g"
      },
      "source": [
        "## **¿Qué veremos hoy?**\n",
        "\n",
        "\n",
        "1.   Un pequeño repaso por los temas vistos en clase.\n",
        "2.   Un ejercicio corto que tenga similitud con lo que se resolverá en el taller.\n",
        "\n"
      ]
    },
    {
      "cell_type": "markdown",
      "metadata": {
        "id": "yVok33ks1S4H"
      },
      "source": [
        "## **Repaso**\n",
        "### Clases\n",
        "#### Conceptos\n",
        "\n",
        "* Clase: Plantilla para crear objetos, define sus atributos y métodos.\n",
        "* Objeto: Una entidad individual creada a partir de una clase.\n",
        "* Herencia: Una forma en que se puede crear una clase a partir de otra, siendo que la subclase \"Hereda\" todos los atributos y métodos de la superclase.\n",
        "* Polimorfismo: Capacidad de que con el mismo método, dos clases que sean super y subclase respondan de manera distinta.\n",
        "* Encapsulamiento: Ocultar detalles de un objeto para unicamente exponer aquellos que se desean, es una forma de seguridad.\n",
        "* Método: \"Comportamiento\" de las clases.\n",
        "* Atributos: \"Descripciones\" de las clases."
      ]
    },
    {
      "cell_type": "markdown",
      "metadata": {
        "id": "Yyt6vWmh3BPS"
      },
      "source": [
        "#### Definiendo clases"
      ]
    },
    {
      "cell_type": "markdown",
      "metadata": {
        "id": "TzzEkzkH3TIu"
      },
      "source": [
        "Para definir una clase en python utilizamos la palabra reservada \"class\".\\\n",
        "El método __init__ es necesario para inicializar los objetos y sus atributos.\\\n",
        "Los atributos se definen inicialmente en el método init"
      ]
    },
    {
      "cell_type": "code",
      "execution_count": 9,
      "metadata": {
        "colab": {
          "base_uri": "https://localhost:8080/"
        },
        "id": "vYKv9m-B2_Q-",
        "outputId": "17d7f410-a69f-44e6-b81e-65019eacd184"
      },
      "outputs": [
        {
          "name": "stdout",
          "output_type": "stream",
          "text": [
            "<__main__.Clase object at 0x000002721CED4E60>\n"
          ]
        }
      ],
      "source": [
        "class Clase:\n",
        "  def __init__(self, atributo1):\n",
        "    self.atributo1 = atributo1\n",
        "    \n",
        "# Aqui creamos un objeto a partir de la clase \"Clase\"\n",
        "clase = Clase(\"Jose\")\n",
        "print(clase)"
      ]
    },
    {
      "cell_type": "markdown",
      "metadata": {
        "id": "3kcUoTx13urW"
      },
      "source": [
        "Es posible cambiar los valores de los atributos de los objetos."
      ]
    },
    {
      "cell_type": "code",
      "execution_count": 10,
      "metadata": {
        "id": "zDMV-gDP30d6"
      },
      "outputs": [
        {
          "name": "stdout",
          "output_type": "stream",
          "text": [
            "Jose\n",
            "Alberto\n"
          ]
        }
      ],
      "source": [
        "print(clase.atributo1)\n",
        "clase.atributo1 = \"Alberto\"\n",
        "print(clase.atributo1)"
      ]
    },
    {
      "cell_type": "markdown",
      "metadata": {},
      "source": [
        "Pero cuando encapsulamos en \"privado\" no es posible hacer estos cambios."
      ]
    },
    {
      "cell_type": "code",
      "execution_count": 24,
      "metadata": {},
      "outputs": [
        {
          "name": "stdout",
          "output_type": "stream",
          "text": [
            "Jose\n",
            "El atributo no existe, por tanto entramos aqui.\n"
          ]
        }
      ],
      "source": [
        "class Clase:\n",
        "  def __init__(self, atributo1):\n",
        "    self._atributo1 = atributo1\n",
        "    \n",
        "clase = Clase(\"Jose\")\n",
        "\n",
        "print(clase._atributo1)\n",
        "\n",
        "class Clase:\n",
        "  def __init__(self, atributo1):\n",
        "    self.__atributo1 = atributo1\n",
        "    \n",
        "clase = Clase(\"Jose\")\n",
        "try:\n",
        "  print(clase.__atributo1)\n",
        "except AttributeError:\n",
        "  print(\"El atributo no existe, por tanto esto se imprime.\")"
      ]
    },
    {
      "cell_type": "markdown",
      "metadata": {},
      "source": [
        "#### Metodos\n",
        "Pero con los métodos podemos modificar esto."
      ]
    },
    {
      "cell_type": "code",
      "execution_count": 33,
      "metadata": {},
      "outputs": [
        {
          "name": "stdout",
          "output_type": "stream",
          "text": [
            "Jose\n",
            "Alberto\n",
            "Nombre: Alberto\n"
          ]
        }
      ],
      "source": [
        "class Clase:\n",
        "  def __init__(self, atributo1):\n",
        "    self.__atributo1 = atributo1\n",
        "  \n",
        "  def changeAtributo1(self, atributo1):\n",
        "    self.__atributo1 = atributo1\n",
        "    \n",
        "  def seeAtributo1(self):\n",
        "    return self.__atributo1\n",
        "  \n",
        "  def __str__(self):\n",
        "    return f'Nombre: {self.__atributo1}'\n",
        "\n",
        "    \n",
        "clase = Clase(\"Jose\")\n",
        "\n",
        "print(clase.seeAtributo1())\n",
        "clase.changeAtributo1(\"Alberto\")\n",
        "print(clase.seeAtributo1())\n",
        "print(clase)"
      ]
    },
    {
      "cell_type": "markdown",
      "metadata": {},
      "source": [
        "#### Herencia\n",
        "Las subclases pueden heredar todos los atributos y métodos de las superclases"
      ]
    },
    {
      "cell_type": "code",
      "execution_count": 34,
      "metadata": {},
      "outputs": [
        {
          "name": "stdout",
          "output_type": "stream",
          "text": [
            "Alberto\n",
            "None\n",
            "54\n"
          ]
        }
      ],
      "source": [
        "class Clase2(Clase):\n",
        "    def __init__(self, atributo1):\n",
        "        super().__init__(atributo1)\n",
        "        self.atributo2 = None\n",
        "        \n",
        "objeto2 = Clase2(\"Alberto\")\n",
        "print(objeto2.seeAtributo1())\n",
        "print(objeto2.atributo2)\n",
        "objeto2.atributo2 = 54\n",
        "print(objeto2.atributo2)"
      ]
    },
    {
      "cell_type": "markdown",
      "metadata": {},
      "source": [
        "#### Polimorfismo\n",
        "Podemos permitir entonces que los métodos definidos antes funcionen diferente para una subclase"
      ]
    },
    {
      "cell_type": "code",
      "execution_count": 35,
      "metadata": {},
      "outputs": [
        {
          "name": "stdout",
          "output_type": "stream",
          "text": [
            "Nombre: Alberto Martinez\n"
          ]
        }
      ],
      "source": [
        "class Clase2(Clase):\n",
        "    def __init__(self, atributo1, atributo2):\n",
        "        super().__init__(atributo1)\n",
        "        self.atributo2 = atributo2\n",
        "        \n",
        "    def __str__(self):\n",
        "        return f'{super().__str__()} {self.atributo2}'\n",
        "    \n",
        "objeto2 = Clase2(\"Alberto\", \"Martinez\")\n",
        "print(objeto2)"
      ]
    },
    {
      "cell_type": "markdown",
      "metadata": {
        "id": "02RJjZCA9rgU"
      },
      "source": [
        "## **Reto/Ejercicio**"
      ]
    },
    {
      "cell_type": "markdown",
      "metadata": {
        "id": "zoynw8Jd_g1d"
      },
      "source": [
        "1. Abra el .json, observelo y cree una clase para poder ingresar el json como objetos de la clase."
      ]
    },
    {
      "cell_type": "code",
      "execution_count": null,
      "metadata": {},
      "outputs": [],
      "source": []
    },
    {
      "cell_type": "markdown",
      "metadata": {
        "id": "kXZzeYaM_UN-"
      },
      "source": [
        "2. Crear una clase hija de la clase anteriormente creada, esta vez no se recibirá correo sino que se creará apartir del nombre utilizando un método propio, además al imprimirse ahora tambien mostrará al final \"Clase hija\""
      ]
    },
    {
      "cell_type": "code",
      "execution_count": null,
      "metadata": {},
      "outputs": [],
      "source": []
    },
    {
      "cell_type": "markdown",
      "metadata": {},
      "source": [
        "3. Como ultimo ejercicio creará una clase que almacene 3 atributos distintos de manera privada, luego generará metodos para poder modificarlos y leerlos. Luego creará 3 objetos de la clase e imprimirá sus valores."
      ]
    },
    {
      "cell_type": "code",
      "execution_count": null,
      "metadata": {},
      "outputs": [],
      "source": []
    }
  ],
  "metadata": {
    "colab": {
      "authorship_tag": "ABX9TyN9IYffgffiKcrAnD4XTy4j",
      "include_colab_link": true,
      "provenance": []
    },
    "kernelspec": {
      "display_name": "Python 3",
      "name": "python3"
    },
    "language_info": {
      "codemirror_mode": {
        "name": "ipython",
        "version": 3
      },
      "file_extension": ".py",
      "mimetype": "text/x-python",
      "name": "python",
      "nbconvert_exporter": "python",
      "pygments_lexer": "ipython3",
      "version": "3.12.1"
    }
  },
  "nbformat": 4,
  "nbformat_minor": 0
}
